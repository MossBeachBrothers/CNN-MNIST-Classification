{
 "cells": [
  {
   "cell_type": "code",
   "execution_count": 1,
   "id": "b61248cf-5867-4f47-9d69-8c60603d6d94",
   "metadata": {},
   "outputs": [],
   "source": [
    "import torch\n",
    "import torch.nn as nn\n",
    "import torch.optim as optim\n",
    "from torch.utils.data import DataLoader\n",
    "import matplotlib.pyplot as plt\n",
    "from torchvision import datasets\n",
    "from torchvision.transforms import ToTensor\n"
   ]
  },
  {
   "cell_type": "code",
   "execution_count": 2,
   "id": "bd82022f-2495-46fa-9bfb-3c8414ca4ddc",
   "metadata": {},
   "outputs": [
    {
     "name": "stdout",
     "output_type": "stream",
     "text": [
      "cpu\n",
      "Dataset MNIST\n",
      "    Number of datapoints: 60000\n",
      "    Root location: data\n",
      "    Split: Train\n",
      "    StandardTransform\n",
      "Transform: ToTensor()\n",
      "Dataset MNIST\n",
      "    Number of datapoints: 10000\n",
      "    Root location: data\n",
      "    Split: Test\n",
      "    StandardTransform\n",
      "Transform: ToTensor()\n"
     ]
    }
   ],
   "source": [
    "# Load Data\n",
    "train_data = datasets.MNIST(\n",
    "    root='data',\n",
    "    train=True,\n",
    "    transform=ToTensor(),\n",
    "    download=True,\n",
    ")\n",
    "test_data = datasets.MNIST(\n",
    "    root='data',\n",
    "    train=False,\n",
    "    transform=ToTensor()\n",
    ")\n",
    "# Device configuration\n",
    "device = torch.device('cuda' if torch.cuda.is_available() else 'cpu')\n",
    "print(device)\n",
    "\n",
    "print(train_data)\n",
    "print(test_data)\n",
    "\n",
    "#Load data using DataLoaders\n",
    "loaders = {\n",
    "    'train': DataLoader(train_data, batch_size=100, shuffle=True, num_workers=1),\n",
    "    'test': DataLoader (test_data, batch_size=100, shuffle=True, num_workers=1),\n",
    "}\n",
    "\n",
    "from torch.utils.data import DataLoader\n",
    "\n",
    "# Create data loaders\n",
    "loaders = {\n",
    "    'train': DataLoader(train_data, batch_size=100, shuffle=True, num_workers=1),\n",
    "    'test': DataLoader(test_data, batch_size=100, shuffle=True, num_workers=1),\n",
    "}\n"
   ]
  },
  {
   "cell_type": "code",
   "execution_count": 3,
   "id": "27e4410b-390a-4600-a8c5-bef1f78ff164",
   "metadata": {},
   "outputs": [
    {
     "name": "stdout",
     "output_type": "stream",
     "text": [
      "Training data: 60000 samples\n",
      "Image shape: torch.Size([1, 28, 28])\n",
      "Label: 5\n"
     ]
    },
    {
     "data": {
      "image/png": "[encoded data removed]",
      "text/plain": [
       "<Figure size 1000x200 with 10 Axes>"
      ]
     },
     "metadata": {},
     "output_type": "display_data"
    }
   ],
   "source": [
    "# Print dataset information\n",
    "print(f'Training data: {len(train_data)} samples')\n",
    "\n",
    "# Access and print the first sample\n",
    "image, label = train_data[0]\n",
    "print(f'Image shape: {image.shape}')\n",
    "print(f'Label: {label}')\n",
    "\n",
    "# Visualize the first 5 images\n",
    "fig, axes = plt.subplots(1, 10, figsize=(10, 2))\n",
    "for i in range(10):\n",
    "    image, label = train_data[i]\n",
    "    image = image.squeeze()  # Remove the channel dimension\n",
    "    axes[i].imshow(image, cmap='gray')\n",
    "    axes[i].set_title(f'Label: {label}')\n",
    "    axes[i].axis('off')\n",
    "plt.show()"
   ]
  },
  {
   "cell_type": "markdown",
   "id": "64e7f17a-d486-4193-aa57-db97e93fd233",
   "metadata": {},
   "source": [
    "## The Convolutional Neural Network\n",
    "\n",
    "I will make has 2 Convolutional Layers, consisting of a 2D Convolution, ReLU Activation, and Max Pooling for Subsampling. The model then runs through a Feed Forward Network. \n",
    "\n",
    "### Steps of 2D Convolution\n",
    "\n",
    "1. Filter: a small matrix of weights that slides over image,\n",
    "2. Stride: number of pixels the filter moves at each step.\n",
    "3. Padding: Extra pixels added at border of image to ensure filter can slide along edges of images.\n",
    "4. Operation: For each position of the filter in the image:\n",
    "       Multiply corresponding elements of filter, take a sum, and place into feature map\n",
    "\n",
    "## Max Pooling\n",
    "\n",
    "Max Pooling is a down-sampling operation to reduce spatial dimensions of feature map while retaining information. It takes a maximum from a small window (such as 2x2), and discards the rest. \n",
    "\n",
    "### Steps of Max Pooling \n",
    "\n",
    "1. Pooling Window: A small matrix that slides over input feature map\n",
    "2. Stride: Number of pixels the window moves each step\n",
    "3. Operation: Take the maximum value within the window, place this maximum value in the output pooled feature map"
   ]
  },
  {
   "cell_type": "code",
   "execution_count": 12,
   "id": "c172c734-027b-49d1-a0e2-6c3307646115",
   "metadata": {},
   "outputs": [
    {
     "name": "stdout",
     "output_type": "stream",
     "text": [
      "CNN(\n",
      "  (conv_layer1): Sequential(\n",
      "    (0): Conv2d(1, 16, kernel_size=(5, 5), stride=(1, 1), padding=(2, 2))\n",
      "    (1): ReLU()\n",
      "    (2): MaxPool2d(kernel_size=2, stride=2, padding=0, dilation=1, ceil_mode=False)\n",
      "  )\n",
      "  (conv_layer2): Sequential(\n",
      "    (0): Conv2d(16, 32, kernel_size=(5, 5), stride=(1, 1), padding=(2, 2))\n",
      "    (1): ReLU()\n",
      "    (2): MaxPool2d(kernel_size=2, stride=2, padding=0, dilation=1, ceil_mode=False)\n",
      "  )\n",
      "  (out): Linear(in_features=1568, out_features=10, bias=True)\n",
      ")\n"
     ]
    }
   ],
   "source": [
    "#Define CNN model\n",
    "class CNN(nn.Module):\n",
    "    def __init__(self):\n",
    "        super(CNN, self).__init__()\n",
    "        self.conv_layer1 = nn.Sequential(\n",
    "            nn.Conv2d(\n",
    "                in_channels=1, #number of channels in input image\n",
    "                out_channels=16, #number of filters, 16 filters means 16 output channels\n",
    "                kernel_size=5, #size of convolving kernel, in this case 5x5\n",
    "                stride=1, #number of pixels to move kernel at each iteration\n",
    "                padding=2, #padding with zero so output same as input\n",
    "            ),\n",
    "            nn.ReLU(),\n",
    "            nn.MaxPool2d(kernel_size=2)  #2x2 kernel\n",
    "        )\n",
    "        self.conv_layer2 = nn.Sequential(\n",
    "            nn.Conv2d(\n",
    "                in_channels=16, #number of channels from first conv\n",
    "                out_channels=32, #more filters to catch more detailed information\n",
    "                kernel_size=5, #size of convolving kernel, in this case 5x5\n",
    "                stride=1, #number of pixels to move kernel at each iteration\n",
    "                padding=2, #padding with zero so output same as input\n",
    "            ),\n",
    "            nn.ReLU(),\n",
    "            nn.MaxPool2d(kernel_size=2)  #2x2 kernel\n",
    "        )\n",
    "        self.out = nn.Linear(32*7*7,10) #By the end of pooling, 28x28 image reduced to 7x7 with 32 channels, 10 output classes (digits 0-9)\n",
    "\n",
    "    def forward(self,x):\n",
    "        x = self.conv_layer1(x)\n",
    "        x = self.conv_layer2(x)\n",
    "        x = x.view(x.size(0), -1) #Flatten output, this converts to shape (batch, 32*7*7\n",
    "        #after flattened, pass in to FFN\n",
    "        output = self.out(x)\n",
    "        return output\n",
    "\n",
    "cnn = CNN().to(device)\n",
    "print(cnn)"
   ]
  },
  {
   "cell_type": "code",
   "execution_count": 13,
   "id": "12d5a1c8-a343-4d31-8f77-1f05c61a7a5f",
   "metadata": {},
   "outputs": [],
   "source": [
    "#Cross Entropy Loss for Image Tasks\n",
    "loss_function = nn.CrossEntropyLoss()\n",
    "optimizer = optim.Adam(cnn.parameters(), lr=0.01)"
   ]
  },
  {
   "cell_type": "code",
   "execution_count": 20,
   "id": "7b02bd61-7be3-4e47-86ea-f29422d7f01c",
   "metadata": {},
   "outputs": [
    {
     "name": "stdout",
     "output_type": "stream",
     "text": [
      "Epoch [1/10], Step [100/600], Loss: 0.0426\n",
      "Epoch [1/10], Step [200/600], Loss: 0.0319\n",
      "Epoch [1/10], Step [300/600], Loss: 0.0361\n",
      "Epoch [1/10], Step [400/600], Loss: 0.1681\n",
      "Epoch [1/10], Step [500/600], Loss: 0.3253\n",
      "Epoch [1/10], Step [600/600], Loss: 0.0313\n",
      "Epoch [2/10], Step [100/600], Loss: 0.1068\n",
      "Epoch [2/10], Step [200/600], Loss: 0.0514\n",
      "Epoch [2/10], Step [300/600], Loss: 0.0947\n",
      "Epoch [2/10], Step [400/600], Loss: 0.0335\n",
      "Epoch [2/10], Step [500/600], Loss: 0.0114\n",
      "Epoch [2/10], Step [600/600], Loss: 0.0077\n",
      "Epoch [3/10], Step [100/600], Loss: 0.0104\n",
      "Epoch [3/10], Step [200/600], Loss: 0.0149\n",
      "Epoch [3/10], Step [300/600], Loss: 0.0162\n",
      "Epoch [3/10], Step [400/600], Loss: 0.0024\n",
      "Epoch [3/10], Step [500/600], Loss: 0.0302\n",
      "Epoch [3/10], Step [600/600], Loss: 0.0192\n",
      "Epoch [4/10], Step [100/600], Loss: 0.0102\n",
      "Epoch [4/10], Step [200/600], Loss: 0.0190\n",
      "Epoch [4/10], Step [300/600], Loss: 0.0006\n",
      "Epoch [4/10], Step [400/600], Loss: 0.0474\n",
      "Epoch [4/10], Step [500/600], Loss: 0.0333\n",
      "Epoch [4/10], Step [600/600], Loss: 0.1590\n",
      "Epoch [5/10], Step [100/600], Loss: 0.0056\n",
      "Epoch [5/10], Step [200/600], Loss: 0.0409\n",
      "Epoch [5/10], Step [300/600], Loss: 0.0284\n",
      "Epoch [5/10], Step [400/600], Loss: 0.0002\n",
      "Epoch [5/10], Step [500/600], Loss: 0.0269\n",
      "Epoch [5/10], Step [600/600], Loss: 0.0547\n",
      "Epoch [6/10], Step [100/600], Loss: 0.0413\n",
      "Epoch [6/10], Step [200/600], Loss: 0.0024\n",
      "Epoch [6/10], Step [300/600], Loss: 0.0539\n",
      "Epoch [6/10], Step [400/600], Loss: 0.0558\n",
      "Epoch [6/10], Step [500/600], Loss: 0.0485\n",
      "Epoch [6/10], Step [600/600], Loss: 0.0129\n",
      "Epoch [7/10], Step [100/600], Loss: 0.0459\n",
      "Epoch [7/10], Step [200/600], Loss: 0.0090\n",
      "Epoch [7/10], Step [300/600], Loss: 0.0212\n",
      "Epoch [7/10], Step [400/600], Loss: 0.0020\n",
      "Epoch [7/10], Step [500/600], Loss: 0.0097\n",
      "Epoch [7/10], Step [600/600], Loss: 0.0897\n",
      "Epoch [8/10], Step [100/600], Loss: 0.0022\n",
      "Epoch [8/10], Step [200/600], Loss: 0.0654\n",
      "Epoch [8/10], Step [300/600], Loss: 0.0014\n",
      "Epoch [8/10], Step [400/600], Loss: 0.0392\n",
      "Epoch [8/10], Step [500/600], Loss: 0.0098\n",
      "Epoch [8/10], Step [600/600], Loss: 0.0802\n",
      "Epoch [9/10], Step [100/600], Loss: 0.0002\n",
      "Epoch [9/10], Step [200/600], Loss: 0.0092\n",
      "Epoch [9/10], Step [300/600], Loss: 0.0930\n",
      "Epoch [9/10], Step [400/600], Loss: 0.0117\n",
      "Epoch [9/10], Step [500/600], Loss: 0.0942\n",
      "Epoch [9/10], Step [600/600], Loss: 0.1040\n",
      "Epoch [10/10], Step [100/600], Loss: 0.0646\n",
      "Epoch [10/10], Step [200/600], Loss: 0.1049\n",
      "Epoch [10/10], Step [300/600], Loss: 0.0818\n",
      "Epoch [10/10], Step [400/600], Loss: 0.1187\n",
      "Epoch [10/10], Step [500/600], Loss: 0.0018\n",
      "Epoch [10/10], Step [600/600], Loss: 0.0110\n"
     ]
    }
   ],
   "source": [
    "num_epochs = 10\n",
    "\n",
    "def train_model(num_epochs, cnn, loaders):\n",
    "    cnn.train() # put model in training mode\n",
    "    total_batches = len(loaders['train'])\n",
    "\n",
    "    for epoch in range(num_epochs):\n",
    "        for j, (images, labels) in enumerate(loaders['train']):\n",
    "            images, labels = images.to(device), labels.to(device) # customize for device config\n",
    "\n",
    "            # Forward\n",
    "            predictions = cnn(images)\n",
    "            loss = loss_function(predictions, labels) # use Cross Entropy Loss Function\n",
    "\n",
    "            # Backward\n",
    "            optimizer.zero_grad() # reset gradients\n",
    "            loss.backward() # backprop\n",
    "            optimizer.step() # update params\n",
    "\n",
    "            # print for info\n",
    "            if (j+1) % 100 == 0: # added condition to print every 100 steps\n",
    "                print(f'Epoch [{epoch+1}/{num_epochs}], Step [{j+1}/{total_batches}], Loss: {loss.item():.4f}')\n",
    "\n",
    "train_model(num_epochs, cnn, loaders)\n"
   ]
  },
  {
   "cell_type": "code",
   "execution_count": 21,
   "id": "c26558e8-aced-4b48-9bb9-876dd9f17196",
   "metadata": {},
   "outputs": [
    {
     "name": "stdout",
     "output_type": "stream",
     "text": [
      "Model Accuracy for Test Data 98.23%\n"
     ]
    }
   ],
   "source": [
    "def test_model():\n",
    "    cnn.eval()\n",
    "    with torch.no_grad():\n",
    "        correct = 0\n",
    "        total_labels = 0\n",
    "        for images, labels in loaders['test']:\n",
    "            # iterate through image, correct label in test data\n",
    "            images, labels = images.to(device), labels.to(device) # use device config\n",
    "            outputs = cnn(images) # call the model on these inputs\n",
    "            _, predicted = torch.max(outputs.data, 1) # get the predicted letter from distributions\n",
    "            total_labels += labels.size(0)\n",
    "            correct += (predicted == labels).sum().item()\n",
    "\n",
    "        print(f'Model Accuracy for Test Data {100 * correct / total_labels:.2f}%')\n",
    "\n",
    "test_model()\n"
   ]
  },
  {
   "cell_type": "code",
   "execution_count": 24,
   "id": "bf4eb1a7-b27b-420e-aa04-f60d69b07ab2",
   "metadata": {},
   "outputs": [
    {
     "data": {
      "image/png": "[encoded data removed]",
      "text/plain": [
       "<Figure size 1500x400 with 10 Axes>"
      ]
     },
     "metadata": {},
     "output_type": "display_data"
    }
   ],
   "source": [
    "# Visualize the Inference\n",
    "sample = next(iter(loaders['test']))  # load sample data from test\n",
    "images, labels = sample\n",
    "images, labels = images.to(device), labels.to(device)\n",
    "\n",
    "# Get the model's predictions\n",
    "cnn.eval()  # change model into eval mode\n",
    "with torch.no_grad():\n",
    "    test_output = cnn(images[:10])  # get the outputs for the first 10 images\n",
    "    predictions = torch.max(test_output, 1)[1].cpu().numpy().squeeze()\n",
    "    expected_labels = labels[:10].cpu().numpy()\n",
    "\n",
    "#Visualize data\n",
    "fig, axes = plt.subplots(1, 10, figsize=(15, 4))\n",
    "for i in range(10):\n",
    "    axes[i].imshow(images[i].cpu().squeeze(), cmap='gray')\n",
    "    axes[i].set_title(f'Predicted:\\n{predictions[i]}')\n",
    "    axes[i].axis('off')\n",
    "plt.show()\n"
   ]
  },
  {
   "cell_type": "code",
   "execution_count": null,
   "id": "9d2872b0-7574-4de5-bb23-dc9caa7e3383",
   "metadata": {},
   "outputs": [],
   "source": []
  }
 ],
 "metadata": {
  "kernelspec": {
   "display_name": "Python 3 (ipykernel)",
   "language": "python",
   "name": "python3"
  },
  "language_info": {
   "codemirror_mode": {
    "name": "ipython",
    "version": 3
   },
   "file_extension": ".py",
   "mimetype": "text/x-python",
   "name": "python",
   "nbconvert_exporter": "python",
   "pygments_lexer": "ipython3",
   "version": "3.12.2"
  }
 },
 "nbformat": 4,
 "nbformat_minor": 5
}
